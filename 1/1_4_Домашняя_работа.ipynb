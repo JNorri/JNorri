{
  "nbformat": 4,
  "nbformat_minor": 0,
  "metadata": {
    "colab": {
      "provenance": [],
      "gpuType": "T4",
      "include_colab_link": true
    },
    "kernelspec": {
      "name": "python3",
      "display_name": "Python 3"
    },
    "language_info": {
      "name": "python"
    },
    "accelerator": "GPU",
    "widgets": {
      "application/vnd.jupyter.widget-state+json": {
        "3fb317ed3f0e4172a4916661e839428b": {
          "model_module": "@jupyter-widgets/controls",
          "model_name": "HBoxModel",
          "model_module_version": "1.5.0",
          "state": {
            "_dom_classes": [],
            "_model_module": "@jupyter-widgets/controls",
            "_model_module_version": "1.5.0",
            "_model_name": "HBoxModel",
            "_view_count": null,
            "_view_module": "@jupyter-widgets/controls",
            "_view_module_version": "1.5.0",
            "_view_name": "HBoxView",
            "box_style": "",
            "children": [
              "IPY_MODEL_9a7cdfbab8514ce4979e6e061d06eaea",
              "IPY_MODEL_b293daf5f35e449799d993c0b104eb77",
              "IPY_MODEL_b2998979a89749a3aff0c15bbd24d7c1"
            ],
            "layout": "IPY_MODEL_2d95bca3943b4fc5a0eb1bfd59da22cf"
          }
        },
        "9a7cdfbab8514ce4979e6e061d06eaea": {
          "model_module": "@jupyter-widgets/controls",
          "model_name": "HTMLModel",
          "model_module_version": "1.5.0",
          "state": {
            "_dom_classes": [],
            "_model_module": "@jupyter-widgets/controls",
            "_model_module_version": "1.5.0",
            "_model_name": "HTMLModel",
            "_view_count": null,
            "_view_module": "@jupyter-widgets/controls",
            "_view_module_version": "1.5.0",
            "_view_name": "HTMLView",
            "description": "",
            "description_tooltip": null,
            "layout": "IPY_MODEL_17bc263b87374085ac77b9d2d8c7526d",
            "placeholder": "​",
            "style": "IPY_MODEL_7b178484442f49288b72633f81f7f61f",
            "value": "Fetching 16 files: 100%"
          }
        },
        "b293daf5f35e449799d993c0b104eb77": {
          "model_module": "@jupyter-widgets/controls",
          "model_name": "FloatProgressModel",
          "model_module_version": "1.5.0",
          "state": {
            "_dom_classes": [],
            "_model_module": "@jupyter-widgets/controls",
            "_model_module_version": "1.5.0",
            "_model_name": "FloatProgressModel",
            "_view_count": null,
            "_view_module": "@jupyter-widgets/controls",
            "_view_module_version": "1.5.0",
            "_view_name": "ProgressView",
            "bar_style": "success",
            "description": "",
            "description_tooltip": null,
            "layout": "IPY_MODEL_431e03ba500a4bcea061d6ba15618fec",
            "max": 16,
            "min": 0,
            "orientation": "horizontal",
            "style": "IPY_MODEL_4f9d498ba14b4167b58f5e3586a09ae9",
            "value": 16
          }
        },
        "b2998979a89749a3aff0c15bbd24d7c1": {
          "model_module": "@jupyter-widgets/controls",
          "model_name": "HTMLModel",
          "model_module_version": "1.5.0",
          "state": {
            "_dom_classes": [],
            "_model_module": "@jupyter-widgets/controls",
            "_model_module_version": "1.5.0",
            "_model_name": "HTMLModel",
            "_view_count": null,
            "_view_module": "@jupyter-widgets/controls",
            "_view_module_version": "1.5.0",
            "_view_name": "HTMLView",
            "description": "",
            "description_tooltip": null,
            "layout": "IPY_MODEL_90796944e00243789760535aa688061c",
            "placeholder": "​",
            "style": "IPY_MODEL_8863091a32d6470b96c15c9591caf147",
            "value": " 16/16 [00:00&lt;00:00, 575.95it/s]"
          }
        },
        "2d95bca3943b4fc5a0eb1bfd59da22cf": {
          "model_module": "@jupyter-widgets/base",
          "model_name": "LayoutModel",
          "model_module_version": "1.2.0",
          "state": {
            "_model_module": "@jupyter-widgets/base",
            "_model_module_version": "1.2.0",
            "_model_name": "LayoutModel",
            "_view_count": null,
            "_view_module": "@jupyter-widgets/base",
            "_view_module_version": "1.2.0",
            "_view_name": "LayoutView",
            "align_content": null,
            "align_items": null,
            "align_self": null,
            "border": null,
            "bottom": null,
            "display": null,
            "flex": null,
            "flex_flow": null,
            "grid_area": null,
            "grid_auto_columns": null,
            "grid_auto_flow": null,
            "grid_auto_rows": null,
            "grid_column": null,
            "grid_gap": null,
            "grid_row": null,
            "grid_template_areas": null,
            "grid_template_columns": null,
            "grid_template_rows": null,
            "height": null,
            "justify_content": null,
            "justify_items": null,
            "left": null,
            "margin": null,
            "max_height": null,
            "max_width": null,
            "min_height": null,
            "min_width": null,
            "object_fit": null,
            "object_position": null,
            "order": null,
            "overflow": null,
            "overflow_x": null,
            "overflow_y": null,
            "padding": null,
            "right": null,
            "top": null,
            "visibility": null,
            "width": null
          }
        },
        "17bc263b87374085ac77b9d2d8c7526d": {
          "model_module": "@jupyter-widgets/base",
          "model_name": "LayoutModel",
          "model_module_version": "1.2.0",
          "state": {
            "_model_module": "@jupyter-widgets/base",
            "_model_module_version": "1.2.0",
            "_model_name": "LayoutModel",
            "_view_count": null,
            "_view_module": "@jupyter-widgets/base",
            "_view_module_version": "1.2.0",
            "_view_name": "LayoutView",
            "align_content": null,
            "align_items": null,
            "align_self": null,
            "border": null,
            "bottom": null,
            "display": null,
            "flex": null,
            "flex_flow": null,
            "grid_area": null,
            "grid_auto_columns": null,
            "grid_auto_flow": null,
            "grid_auto_rows": null,
            "grid_column": null,
            "grid_gap": null,
            "grid_row": null,
            "grid_template_areas": null,
            "grid_template_columns": null,
            "grid_template_rows": null,
            "height": null,
            "justify_content": null,
            "justify_items": null,
            "left": null,
            "margin": null,
            "max_height": null,
            "max_width": null,
            "min_height": null,
            "min_width": null,
            "object_fit": null,
            "object_position": null,
            "order": null,
            "overflow": null,
            "overflow_x": null,
            "overflow_y": null,
            "padding": null,
            "right": null,
            "top": null,
            "visibility": null,
            "width": null
          }
        },
        "7b178484442f49288b72633f81f7f61f": {
          "model_module": "@jupyter-widgets/controls",
          "model_name": "DescriptionStyleModel",
          "model_module_version": "1.5.0",
          "state": {
            "_model_module": "@jupyter-widgets/controls",
            "_model_module_version": "1.5.0",
            "_model_name": "DescriptionStyleModel",
            "_view_count": null,
            "_view_module": "@jupyter-widgets/base",
            "_view_module_version": "1.2.0",
            "_view_name": "StyleView",
            "description_width": ""
          }
        },
        "431e03ba500a4bcea061d6ba15618fec": {
          "model_module": "@jupyter-widgets/base",
          "model_name": "LayoutModel",
          "model_module_version": "1.2.0",
          "state": {
            "_model_module": "@jupyter-widgets/base",
            "_model_module_version": "1.2.0",
            "_model_name": "LayoutModel",
            "_view_count": null,
            "_view_module": "@jupyter-widgets/base",
            "_view_module_version": "1.2.0",
            "_view_name": "LayoutView",
            "align_content": null,
            "align_items": null,
            "align_self": null,
            "border": null,
            "bottom": null,
            "display": null,
            "flex": null,
            "flex_flow": null,
            "grid_area": null,
            "grid_auto_columns": null,
            "grid_auto_flow": null,
            "grid_auto_rows": null,
            "grid_column": null,
            "grid_gap": null,
            "grid_row": null,
            "grid_template_areas": null,
            "grid_template_columns": null,
            "grid_template_rows": null,
            "height": null,
            "justify_content": null,
            "justify_items": null,
            "left": null,
            "margin": null,
            "max_height": null,
            "max_width": null,
            "min_height": null,
            "min_width": null,
            "object_fit": null,
            "object_position": null,
            "order": null,
            "overflow": null,
            "overflow_x": null,
            "overflow_y": null,
            "padding": null,
            "right": null,
            "top": null,
            "visibility": null,
            "width": null
          }
        },
        "4f9d498ba14b4167b58f5e3586a09ae9": {
          "model_module": "@jupyter-widgets/controls",
          "model_name": "ProgressStyleModel",
          "model_module_version": "1.5.0",
          "state": {
            "_model_module": "@jupyter-widgets/controls",
            "_model_module_version": "1.5.0",
            "_model_name": "ProgressStyleModel",
            "_view_count": null,
            "_view_module": "@jupyter-widgets/base",
            "_view_module_version": "1.2.0",
            "_view_name": "StyleView",
            "bar_color": null,
            "description_width": ""
          }
        },
        "90796944e00243789760535aa688061c": {
          "model_module": "@jupyter-widgets/base",
          "model_name": "LayoutModel",
          "model_module_version": "1.2.0",
          "state": {
            "_model_module": "@jupyter-widgets/base",
            "_model_module_version": "1.2.0",
            "_model_name": "LayoutModel",
            "_view_count": null,
            "_view_module": "@jupyter-widgets/base",
            "_view_module_version": "1.2.0",
            "_view_name": "LayoutView",
            "align_content": null,
            "align_items": null,
            "align_self": null,
            "border": null,
            "bottom": null,
            "display": null,
            "flex": null,
            "flex_flow": null,
            "grid_area": null,
            "grid_auto_columns": null,
            "grid_auto_flow": null,
            "grid_auto_rows": null,
            "grid_column": null,
            "grid_gap": null,
            "grid_row": null,
            "grid_template_areas": null,
            "grid_template_columns": null,
            "grid_template_rows": null,
            "height": null,
            "justify_content": null,
            "justify_items": null,
            "left": null,
            "margin": null,
            "max_height": null,
            "max_width": null,
            "min_height": null,
            "min_width": null,
            "object_fit": null,
            "object_position": null,
            "order": null,
            "overflow": null,
            "overflow_x": null,
            "overflow_y": null,
            "padding": null,
            "right": null,
            "top": null,
            "visibility": null,
            "width": null
          }
        },
        "8863091a32d6470b96c15c9591caf147": {
          "model_module": "@jupyter-widgets/controls",
          "model_name": "DescriptionStyleModel",
          "model_module_version": "1.5.0",
          "state": {
            "_model_module": "@jupyter-widgets/controls",
            "_model_module_version": "1.5.0",
            "_model_name": "DescriptionStyleModel",
            "_view_count": null,
            "_view_module": "@jupyter-widgets/base",
            "_view_module_version": "1.2.0",
            "_view_name": "StyleView",
            "description_width": ""
          }
        }
      }
    }
  },
  "cells": [
    {
      "cell_type": "markdown",
      "metadata": {
        "id": "view-in-github",
        "colab_type": "text"
      },
      "source": [
        "<a href=\"https://colab.research.google.com/github/JNorri/JNorri/blob/main/1/1_4_%D0%94%D0%BE%D0%BC%D0%B0%D1%88%D0%BD%D1%8F%D1%8F_%D1%80%D0%B0%D0%B1%D0%BE%D1%82%D0%B0.ipynb\" target=\"_parent\"><img src=\"https://colab.research.google.com/assets/colab-badge.svg\" alt=\"Open In Colab\"/></a>"
      ]
    },
    {
      "cell_type": "markdown",
      "source": [
        "**Навигация по уроку**\n",
        "\n",
        "1. [Знакомство с Google Colab](https://colab.research.google.com/drive/165RMZptKVyl7OKNt0jTiVAUcE76uBme0)\n",
        "2. [Знакомство с GitHub](https://colab.research.google.com/drive/1pAr69aYkwU61_56PyK1ahnE930VSx2MM)\n",
        "3. [Нейросети как сервис. Как сделать свой сервис на предобученных моделях](https://colab.research.google.com/drive/11rJ3Qmuh9UHgWSjDr13us9tLF0dHCyLS)\n",
        "4. Домашняя работа"
      ],
      "metadata": {
        "id": "ExyTGIwSFyI5"
      }
    },
    {
      "cell_type": "markdown",
      "source": [
        "В качестве домашнего задания мы хотим вам дать 2 задания:\n",
        "\n",
        "1. Творческое задание. Мы хотим, чтобы вы проявили свои творческие способности и поигралися с моделью **StableDiffusion**.\n",
        "2. Создайте себе профиль на GitHub.\n",
        "\n",
        "**Выполнение домашней работы:**\n",
        "\n",
        "1.   Скопируйте блокнот (если забыли, см. урок 1.1. Знакомство с Google Colab).\n",
        "2.   Переименуйте блокнот, в любое имя на ваш выбор.\n",
        "3.   Переведите среду выполнения в режим T4 GPU (1.3. Нейросети как сервис. Как сделать свой сервис на предобученных моделях).\n",
        "4.   Выполните ячейку с \"Необходимыми функциями\".\n",
        "5.   Добавте свои ячейки с 5 разными эксперементами (функция *createImagesStableDiffusion()* из прошлого блокнота, укажите 5 разных текста для генерации картинок).\n",
        "6.   Поделитесь блокнотом (общий доступ) с Куратором.\n",
        "7.   Создайте себе профиль на GitHub.\n",
        "8.   Создайте на GitHub публичный репозиторий с именем как ваш никнейм.\n",
        "9.   Добавьте в него файл README.md (вы также можете отметить галочку \"Add a README file\" при добавлении репозитория и он будет создан автоматически) и оформите его на свое усмотрение.\n",
        "10.  Отправьте ссылку на ваш профиль в GitHub куратору.\n",
        "\n",
        "\n",
        "Возникнут вопросы, не стесняйтесь обратиться за помощью к Куратору, он вам обязательно поможет."
      ],
      "metadata": {
        "id": "IHTWW0JPAcG_"
      }
    },
    {
      "cell_type": "code",
      "source": [
        "#@title Необходимые функции\n",
        "!pip install jax==0.4.23 jaxlib==0.4.23\n",
        "!pip -q install diffusers\n",
        "!pip -q install transformers scipy ftfy accelerate\n",
        "!pip -q install \"ipywidgets>=7,<8\"\n",
        "import torch\n",
        "from diffusers import StableDiffusionPipeline\n",
        "from PIL import Image\n",
        "\n",
        "from google.colab import output\n",
        "output.enable_custom_widget_manager()\n",
        "\n",
        "stableDiffusion = StableDiffusionPipeline.from_pretrained(\"CompVis/stable-diffusion-v1-4\", revision=\"fp16\", torch_dtype=torch.float16)\n",
        "stableDiffusion = stableDiffusion.to(\"cuda\")\n",
        "\n",
        "\n",
        "def createImagesStableDiffusion(prompt='', rows=2, cols=2, iteration=20):\n",
        "  # Запускаем генерацию\n",
        "  images =  stableDiffusion([prompt] * (rows*cols), num_inference_steps=iteration).images\n",
        "  w, h = images[0].size\n",
        "  grid = Image.new('RGB', size=(cols*w, rows*h))\n",
        "  grid_w, grid_h = grid.size\n",
        "\n",
        "  for i, img in enumerate(images):\n",
        "      grid.paste(img, box=(i%cols*w, i//cols*h))\n",
        "  display(grid)"
      ],
      "metadata": {
        "id": "rbgR2OMqFx15",
        "colab": {
          "base_uri": "https://localhost:8080/",
          "height": 153,
          "referenced_widgets": [
            "3fb317ed3f0e4172a4916661e839428b",
            "9a7cdfbab8514ce4979e6e061d06eaea",
            "b293daf5f35e449799d993c0b104eb77",
            "b2998979a89749a3aff0c15bbd24d7c1",
            "2d95bca3943b4fc5a0eb1bfd59da22cf",
            "17bc263b87374085ac77b9d2d8c7526d",
            "7b178484442f49288b72633f81f7f61f",
            "431e03ba500a4bcea061d6ba15618fec",
            "4f9d498ba14b4167b58f5e3586a09ae9",
            "90796944e00243789760535aa688061c",
            "8863091a32d6470b96c15c9591caf147"
          ]
        },
        "outputId": "381b3451-ab36-4711-8b65-c98f179abc24",
        "cellView": "form"
      },
      "execution_count": null,
      "outputs": [
        {
          "output_type": "stream",
          "name": "stdout",
          "text": [
            "Requirement already satisfied: jax==0.4.23 in /usr/local/lib/python3.10/dist-packages (0.4.23)\n",
            "Requirement already satisfied: jaxlib==0.4.23 in /usr/local/lib/python3.10/dist-packages (0.4.23)\n",
            "Requirement already satisfied: ml-dtypes>=0.2.0 in /usr/local/lib/python3.10/dist-packages (from jax==0.4.23) (0.2.0)\n",
            "Requirement already satisfied: numpy>=1.22 in /usr/local/lib/python3.10/dist-packages (from jax==0.4.23) (1.25.2)\n",
            "Requirement already satisfied: opt-einsum in /usr/local/lib/python3.10/dist-packages (from jax==0.4.23) (3.3.0)\n",
            "Requirement already satisfied: scipy>=1.9 in /usr/local/lib/python3.10/dist-packages (from jax==0.4.23) (1.11.4)\n"
          ]
        },
        {
          "output_type": "display_data",
          "data": {
            "text/plain": [
              "Fetching 16 files:   0%|          | 0/16 [00:00<?, ?it/s]"
            ],
            "application/vnd.jupyter.widget-view+json": {
              "version_major": 2,
              "version_minor": 0,
              "model_id": "3fb317ed3f0e4172a4916661e839428b"
            }
          },
          "metadata": {
            "application/vnd.jupyter.widget-view+json": {
              "colab": {
                "custom_widget_manager": {
                  "url": "https://ssl.gstatic.com/colaboratory-static/widgets/colab-cdn-widget-manager/2b70e893a8ba7c0f/manager.min.js"
                }
              }
            }
          }
        }
      ]
    },
    {
      "cell_type": "code",
      "source": [
        "# Изменяя текст в кавычках получайте различные изображени. Вам необходимо получить 5 разных генераций, которыми вы захотите поделиться с Куратором :)\n",
        "createImagesStableDiffusion('Salvador Dali walks down the street with a cockroach on a leash, city, surrealism, crowded, people turn around, 8k, highly detailed, –ar 16:9 ', 2, 2, 100)"
      ],
      "metadata": {
        "id": "IrIPujN7C81p"
      },
      "execution_count": null,
      "outputs": []
    }
  ]
}